{
 "cells": [
  {
   "cell_type": "code",
   "execution_count": 1,
   "metadata": {},
   "outputs": [],
   "source": [
    "import os\n",
    "from sklearn.base import BaseEstimator, TransformerMixin\n",
    "from sklearn.feature_extraction.text import TfidfVectorizer, CountVectorizer\n",
    "from sklearn.pipeline import FeatureUnion\n",
    "from sklearn.pipeline import Pipeline\n",
    "from sklearn.metrics import accuracy_score\n",
    "from sklearn.model_selection import train_test_split\n",
    "from xgboost import XGBClassifier\n",
    "from sklearn.naive_bayes import MultinomialNB\n",
    "from sklearn import svm\n",
    "import xml.etree.ElementTree as ET"
   ]
  },
  {
   "cell_type": "code",
   "execution_count": 2,
   "metadata": {},
   "outputs": [],
   "source": [
    "class CleanAfsana(BaseEstimator, TransformerMixin):\n",
    "    def fit(self, x, y=None):\n",
    "        return self\n",
    "    def transform(self, afsanas):\n",
    "        stopwords = [\"آئی\",\"آئے\",\"آج\",\"آخر\",\"آخرکبر\",\"آدهی\",\"آًب\",\"آٹھ\",\"آیب\",\"اة\",\"اخبزت\",\"اختتبم\",\"ادھر\",\"ارد\",\"اردگرد\",\"ارکبى\",\"اش\",\"اضتعوبل\",\"اضتعوبلات\",\"اضطرذ\",\"اضکب\",\"اضکی\",\"اضکے\",\"اطراف\",\"اغیب\",\"افراد\",\"الگ\",\"اور\",\"اوًچب\",\"اوًچبئی\",\"اوًچی\",\"اوًچے\",\"اى\",\"اً\",\"اًذر\",\"اًہیں\",\"اٹھبًب\",\"اپٌب\",\"اپٌے\",\"اچھب\",\"اچھی\",\"اچھے\",\"اکثر\",\"اکٹھب\",\"اکٹھی\",\"اکٹھے\",\"اکیلا\",\"اکیلی\",\"اکیلے\",\"اگرچہ\",\"اہن\",\"ایطے\",\"ایک\",\"ب\",\"ت\",\"تبزٍ\",\"تت\",\"تر\",\"ترتیت\",\"تریي\",\"تعذاد\",\"تن\",\"تو\",\"توبم\",\"توہی\",\"توہیں\",\"تٌہب\",\"تک\",\"تھب\",\"تھوڑا\",\"تھوڑی\",\"تھوڑے\",\"تھی\",\"تھے\",\"تیي\",\"ثب\",\"ثبئیں\",\"ثبترتیت\",\"ثبری\",\"ثبرے\",\"ثبعث\",\"ثبلا\",\"ثبلترتیت\",\"ثبہر\",\"ثدبئے\",\"ثرآں\",\"ثراں\",\"ثرش\",\"ثعذ\",\"ثغیر\",\"ثلٌذ\",\"ثلٌذوثبلا\",\"ثلکہ\",\"ثي\",\"ثٌب\",\"ثٌبرہب\",\"ثٌبرہی\",\"ثٌبرہے\",\"ثٌبًب\",\"ثٌذ\",\"ثٌذکرو\",\"ثٌذکرًب\",\"ثٌذی\",\"ثڑا\",\"ثڑوں\",\"ثڑی\",\"ثڑے\",\"ثھر\",\"ثھرا\",\"ثھراہوا\",\"ثھرپور\",\"ثھی\",\"ثہت\",\"ثہتر\",\"ثہتری\",\"ثہتریي\",\"ثیچ\",\"ج\",\"خب\",\"خبرہب\",\"خبرہی\",\"خبرہے\",\"خبهوظ\",\"خبًب\",\"خبًتب\",\"خبًتی\",\"خبًتے\",\"خبًٌب\",\"خت\",\"ختن\",\"خجکہ\",\"خص\",\"خططرذ\",\"خلذی\",\"خو\",\"خواى\",\"خوًہی\",\"خوکہ\",\"خٌبة\",\"خگہ\",\"خگہوں\",\"خگہیں\",\"خیطب\",\"خیطبکہ\",\"در\",\"درخبت\",\"درخہ\",\"درخے\",\"درزقیقت\",\"درضت\",\"دش\",\"دفعہ\",\"دلچطپ\",\"دلچطپی\",\"دلچطپیبں\",\"دو\",\"دور\",\"دوراى\",\"دوضرا\",\"دوضروں\",\"دوضری\",\"دوضرے\",\"دوًوں\",\"دکھبئیں\",\"دکھبتب\",\"دکھبتی\",\"دکھبتے\",\"دکھبو\",\"دکھبًب\",\"دکھبیب\",\"دی\",\"دیب\",\"دیتب\",\"دیتی\",\"دیتے\",\"دیر\",\"دیٌب\",\"دیکھو\",\"دیکھٌب\",\"دیکھی\",\"دیکھیں\",\"دے\",\"ر\",\"راضتوں\",\"راضتہ\",\"راضتے\",\"رریعہ\",\"رریعے\",\"رکي\",\"رکھ\",\"رکھب\",\"رکھتب\",\"رکھتبہوں\",\"رکھتی\",\"رکھتے\",\"رکھی\",\"رکھے\",\"رہب\",\"رہی\",\"رہے\",\"ز\",\"زبصل\",\"زبضر\",\"زبل\",\"زبلات\",\"زبلیہ\",\"زصوں\",\"زصہ\",\"زصے\",\"زقبئق\",\"زقیتیں\",\"زقیقت\",\"زکن\",\"زکویہ\",\"زیبدٍ\",\"صبف\",\"صسیر\",\"صفر\",\"صورت\",\"صورتسبل\",\"صورتوں\",\"صورتیں\",\"ض\",\"ضبت\",\"ضبتھ\",\"ضبدٍ\",\"ضبرا\",\"ضبرے\",\"ضبل\",\"ضبلوں\",\"ضت\",\"ضرور\",\"ضرورت\",\"ضروری\",\"ضلطلہ\",\"ضوچ\",\"ضوچب\",\"ضوچتب\",\"ضوچتی\",\"ضوچتے\",\"ضوچو\",\"ضوچٌب\",\"ضوچی\",\"ضوچیں\",\"ضکب\",\"ضکتب\",\"ضکتی\",\"ضکتے\",\"ضکٌب\",\"ضکی\",\"ضکے\",\"ضیذھب\",\"ضیذھی\",\"ضیذھے\",\"ضیکٌڈ\",\"ضے\",\"طرف\",\"طریق\",\"طریقوں\",\"طریقہ\",\"طریقے\",\"طور\",\"طورپر\",\"ظبہر\",\"ع\",\"عذد\",\"عظین\",\"علاقوں\",\"علاقہ\",\"علاقے\",\"علاوٍ\",\"عووهی\",\"غبیذ\",\"غخص\",\"غذ\",\"غروع\",\"غروعبت\",\"غے\",\"فرد\",\"فی\",\"ق\",\"قجل\",\"قجیلہ\",\"قطن\",\"لئے\",\"لا\",\"لازهی\",\"لو\",\"لوجب\",\"لوجی\",\"لوجے\",\"لوسبت\",\"لوسہ\",\"لوگ\",\"لوگوں\",\"لڑکپي\",\"لگتب\",\"لگتی\",\"لگتے\",\"لگٌب\",\"لگی\",\"لگیں\",\"لگے\",\"لی\",\"لیب\",\"لیٌب\",\"لیں\",\"لے\",\"ه\",\"هتعلق\",\"هختلف\",\"هسترم\",\"هسترهہ\",\"هسطوش\",\"هسیذ\",\"هطئلہ\",\"هطئلے\",\"هطبئل\",\"هطتعول\",\"هطلق\",\"هعلوم\",\"هػتول\",\"هلا\",\"هوکي\",\"هوکٌبت\",\"هوکٌہ\",\"هٌبضت\",\"هڑا\",\"هڑًب\",\"هڑے\",\"هکول\",\"هگر\",\"هہرثبى\",\"هیرا\",\"هیری\",\"هیرے\",\"هیں\",\"و\",\"وار\",\"والے\",\"وٍ\",\"ًئی\",\"ًئے\",\"ًب\",\"ًبپطٌذ\",\"ًبگسیر\",\"ًطجت\",\"ًقطہ\",\"ًو\",\"ًوخواى\",\"ًکبلٌب\",\"ًکتہ\",\"ًہ\",\"ًہیں\",\"ًیب\",\"ًے\",\"ٓ آش\",\"ٹھیک\",\"پبئے\",\"پبش\",\"پبًب\",\"پبًچ\",\"پر\",\"پراًب\",\"پطٌذ\",\"پل\",\"پورا\",\"پوچھب\",\"پوچھتب\",\"پوچھتی\",\"پوچھتے\",\"پوچھو\",\"پوچھوں\",\"پوچھٌب\",\"پوچھیں\",\"پچھلا\",\"پھر\",\"پہلا\",\"پہلی\",\"پہلےضی\",\"پہلےضے\",\"پہلےضےہی\",\"پیع\",\"چبر\",\"چبہب\",\"چبہٌب\",\"چبہے\",\"چلا\",\"چلو\",\"چلیں\",\"چلے\",\"چکب\",\"چکی\",\"چکیں\",\"چکے\",\"چھوٹب\",\"چھوٹوں\",\"چھوٹی\",\"چھوٹے\",\"چھہ\",\"چیسیں\",\"ڈھوًڈا\",\"ڈھوًڈلیب\",\"ڈھوًڈو\",\"ڈھوًڈًب\",\"ڈھوًڈی\",\"ڈھوًڈیں\",\"ک\",\"کئی\",\"کئے\",\"کب\",\"کبفی\",\"کبم\",\"کت\",\"کجھی\",\"کرا\",\"کرتب\",\"کرتبہوں\",\"کرتی\",\"کرتے\",\"کرتےہو\",\"کررہب\",\"کررہی\",\"کررہے\",\"کرو\",\"کرًب\",\"کریں\",\"کرے\",\"کطی\",\"کل\",\"کن\",\"کوئی\",\"کوتر\",\"کورا\",\"کوروں\",\"کورٍ\",\"کورے\",\"کوطي\",\"کوى\",\"کوًطب\",\"کوًطی\",\"کوًطے\",\"کھولا\",\"کھولو\",\"کھولٌب\",\"کھولی\",\"کھولیں\",\"کھولے\",\"کہ\",\"کہب\",\"کہتب\",\"کہتی\",\"کہتے\",\"کہو\",\"کہوں\",\"کہٌب\",\"کہی\",\"کہیں\",\"کہے\",\"کی\",\"کیب\",\"کیطب\",\"کیطرف\",\"کیطے\",\"کیلئے\",\"کیوًکہ\",\"کیوں\",\"کیے\",\"کے\",\"کےثعذ\",\"کےرریعے\",\"گئی\",\"گئے\",\"گب\",\"گرد\",\"گروٍ\",\"گروپ\",\"گروہوں\",\"گٌتی\",\"گی\",\"گیب\",\"گے\",\"ہر\",\"ہن\",\"ہو\",\"ہوئی\",\"ہوئے\",\"ہوا\",\"ہوبرا\",\"ہوبری\",\"ہوبرے\",\"ہوتب\",\"ہوتی\",\"ہوتے\",\"ہورہب\",\"ہورہی\",\"ہورہے\",\"ہوضکتب\",\"ہوضکتی\",\"ہوضکتے\",\"ہوًب\",\"ہوًی\",\"ہوًے\",\"ہوچکب\",\"ہوچکی\",\"ہوچکے\",\"ہوگئی\",\"ہوگئے\",\"ہوگیب\",\"ہوں\",\"ہی\",\"ہیں\",\"ہے\",\"ی\",\"یقیٌی\",\"یہ\",\"یہبں\"]\n",
    "        afsana_list_clean = []\n",
    "        for afsana in afsanas: \n",
    "            s_list = [word for word in afsana.split() if word not in stopwords]\n",
    "            str_ = ' '.join(s_list)\n",
    "            afsana_list_clean.append(str_)\n",
    "        return afsana_list_clean"
   ]
  },
  {
   "cell_type": "code",
   "execution_count": 3,
   "metadata": {},
   "outputs": [],
   "source": [
    "class POSCountVectorizer(BaseEstimator, TransformerMixin):\n",
    "    def fit(self, x, y=None):\n",
    "        return self\n",
    "    def transform(self, afsanas):\n",
    "        pos_dict = {}\n",
    "        files = os.listdir('ur_ds\\\\pos')\n",
    "        for file in files:\n",
    "            tree = ET.parse('ur_ds\\\\pos\\\\' + file)\n",
    "            root = tree.getroot()\n",
    "            for sent in root:\n",
    "                for word in sent:\n",
    "                    pos_dict[word.text] = word.attrib['pos']\n",
    "        \n",
    "        afsana_pos_features = []\n",
    "        for afsana in afsanas:\n",
    "            tag_indexes = {'NN': 0, 'VB': 1, 'ADJ': 2, 'ADV': 3, 'PN': 4, 'PP': 5}\n",
    "            pos_count_arr = [0] * len(tag_indexes)\n",
    "            afsana_words = afsana.split()\n",
    "            for word in afsana_words:\n",
    "                if word in pos_dict:\n",
    "                    pos_tag = pos_dict[word]\n",
    "                    if pos_tag and pos_tag in tag_indexes :\n",
    "                        pos_count_arr[tag_indexes[pos_tag]] += 1\n",
    "            afsana_pos_features.append(pos_count_arr)\n",
    "        return afsana_pos_features"
   ]
  },
  {
   "cell_type": "code",
   "execution_count": 4,
   "metadata": {},
   "outputs": [],
   "source": [
    "class POSTransformer(BaseEstimator, TransformerMixin):\n",
    "    def fit(self, x, y=None):\n",
    "        return self\n",
    "    def transform(self, afsanas):\n",
    "        pos_dict = {}\n",
    "        files = os.listdir('ur_ds\\\\pos')\n",
    "        for file in files:\n",
    "            tree = ET.parse('ur_ds\\\\pos\\\\' + file)\n",
    "            root = tree.getroot()\n",
    "            for sent in root:\n",
    "                for word in sent:\n",
    "                    pos_dict[word.text] = word.attrib['pos']\n",
    "        afsana_pos = []\n",
    "        for afsana in afsanas:\n",
    "            pos_tag_str = ''\n",
    "            afsana_words = afsana.split()\n",
    "            for word in afsana_words:\n",
    "                if word in pos_dict:\n",
    "                    pos_tag = pos_dict[word]\n",
    "                    if pos_tag:\n",
    "                        pos_tag_str += ' ' + pos_tag\n",
    "            afsana_pos.append(pos_tag_str.strip())\n",
    "        return afsana_pos"
   ]
  },
  {
   "cell_type": "code",
   "execution_count": 5,
   "metadata": {},
   "outputs": [],
   "source": [
    "pipeline = Pipeline([\n",
    "    ('cleanafsana', CleanAfsana()),\n",
    "    ('features', FeatureUnion([\n",
    "        ('tfidfpipe',  Pipeline([\n",
    "            ('tfidf', TfidfVectorizer(analyzer='word', max_df=0.9, min_df=0.2, ngram_range=(2,3),max_features=6000))\n",
    "        ])),\n",
    "        ('pos_tfidf', Pipeline([\n",
    "            ('pos', POSTransformer()),\n",
    "            ('tfidf', TfidfVectorizer(analyzer='word', max_df=0.9, min_df=0.2, ngram_range=(2,3),max_features=6000))\n",
    "          ]))\n",
    "    ]))\n",
    "])"
   ]
  },
  {
   "cell_type": "code",
   "execution_count": 6,
   "metadata": {},
   "outputs": [],
   "source": [
    "folders = os.listdir('ur_ds\\\\clean')\n",
    "labels = []\n",
    "afsana_list = []\n",
    "for folder in folders:\n",
    "    files = os.listdir('ur_ds\\\\clean\\\\' + folder)\n",
    "    for file in files:\n",
    "        labels.append(folder)\n",
    "        f = open('ur_ds\\\\clean\\\\' + folder + '\\\\' + file, \"r\", encoding=\"utf8\")\n",
    "        for line in f:\n",
    "            if (len(line) > 2):\n",
    "                afsana_list.append(line)\n",
    "        f.close()"
   ]
  },
  {
   "cell_type": "code",
   "execution_count": 7,
   "metadata": {},
   "outputs": [],
   "source": [
    "features = pipeline.fit_transform(afsana_list)\n"
   ]
  },
  {
   "cell_type": "code",
   "execution_count": 8,
   "metadata": {},
   "outputs": [],
   "source": [
    "features_nd = features.toarray()"
   ]
  },
  {
   "cell_type": "code",
   "execution_count": 9,
   "metadata": {},
   "outputs": [
    {
     "data": {
      "text/plain": [
       "(98, 1664)"
      ]
     },
     "execution_count": 9,
     "metadata": {},
     "output_type": "execute_result"
    }
   ],
   "source": [
    "features_nd.shape"
   ]
  },
  {
   "cell_type": "code",
   "execution_count": 10,
   "metadata": {},
   "outputs": [
    {
     "name": "stderr",
     "output_type": "stream",
     "text": [
      "D:\\Anaconda3\\lib\\site-packages\\sklearn\\model_selection\\_split.py:2179: FutureWarning: From version 0.21, test_size will always complement train_size unless both are specified.\n",
      "  FutureWarning)\n"
     ]
    }
   ],
   "source": [
    "X_train, X_test, y_train, y_test = train_test_split(features_nd, labels, train_size=0.75,random_state=1234)"
   ]
  },
  {
   "cell_type": "code",
   "execution_count": 11,
   "metadata": {},
   "outputs": [
    {
     "data": {
      "text/plain": [
       "0.76"
      ]
     },
     "execution_count": 11,
     "metadata": {},
     "output_type": "execute_result"
    }
   ],
   "source": [
    "clf3 = XGBClassifier()\n",
    "clf3.fit(X_train, y_train)\n",
    "y_pred = clf3.predict(X_test)\n",
    "accuracy_score(y_test, y_pred)"
   ]
  },
  {
   "cell_type": "code",
   "execution_count": 12,
   "metadata": {},
   "outputs": [
    {
     "data": {
      "text/plain": [
       "0.84"
      ]
     },
     "execution_count": 12,
     "metadata": {},
     "output_type": "execute_result"
    }
   ],
   "source": [
    "clf1 = MultinomialNB()\n",
    "clf1.fit(X_train, y_train)\n",
    "y_pred = clf1.predict(X_test)\n",
    "accuracy_score(y_test, y_pred)"
   ]
  },
  {
   "cell_type": "code",
   "execution_count": 13,
   "metadata": {},
   "outputs": [
    {
     "data": {
      "text/plain": [
       "0.96"
      ]
     },
     "execution_count": 13,
     "metadata": {},
     "output_type": "execute_result"
    }
   ],
   "source": [
    "clf2 = svm.SVC(kernel='linear')\n",
    "clf2.fit(X_train, y_train)\n",
    "y_pred = clf2.predict(X_test)\n",
    "accuracy_score(y_test, y_pred)"
   ]
  },
  {
   "cell_type": "code",
   "execution_count": null,
   "metadata": {},
   "outputs": [],
   "source": []
  }
 ],
 "metadata": {
  "kernelspec": {
   "display_name": "Python 3",
   "language": "python",
   "name": "python3"
  },
  "language_info": {
   "codemirror_mode": {
    "name": "ipython",
    "version": 3
   },
   "file_extension": ".py",
   "mimetype": "text/x-python",
   "name": "python",
   "nbconvert_exporter": "python",
   "pygments_lexer": "ipython3",
   "version": "3.6.8"
  }
 },
 "nbformat": 4,
 "nbformat_minor": 2
}
