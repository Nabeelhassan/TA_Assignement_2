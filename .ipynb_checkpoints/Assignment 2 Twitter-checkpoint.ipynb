{
 "cells": [
  {
   "cell_type": "code",
   "execution_count": 573,
   "metadata": {},
   "outputs": [],
   "source": [
    "from twython import Twython, TwythonRateLimitError, TwythonError\n",
    "from textblob import TextBlob\n",
    "from glob import glob\n",
    "from csv import DictReader, DictWriter\n",
    "from sklearn import model_selection, preprocessing, linear_model, naive_bayes, metrics, svm\n",
    "import pandas as pd\n",
    "import os, re, string\n",
    "import numpy as np\n",
    "import emoji\n",
    "from sklearn.feature_extraction.text import TfidfVectorizer, CountVectorizer\n",
    "from sklearn.naive_bayes import MultinomialNB\n",
    "from sklearn.linear_model import SGDClassifier\n",
    "import xml.etree.ElementTree as ET\n",
    "import nltk\n",
    "from nltk.classify import NaiveBayesClassifier, MaxentClassifier\n",
    "from nltk.tag.sequential import ClassifierBasedPOSTagger"
   ]
  },
  {
   "cell_type": "code",
   "execution_count": 2,
   "metadata": {},
   "outputs": [],
   "source": [
    "ConsumerKey = 'Xap2Jytwc3ehirzhWhPtIg' \n",
    "ConsumerSecret = 'M19t2uyoXSDnNxH01c4EAWvoAScpSyUlBHiGQx4U'\n",
    "AccessToken = '166071132-r247QGhTdb9a1SdtH36avAndjAjwJksdJZLLqDYt'\n",
    "AccessSecret = 'y7CGzzZzwyO72sx7yNedrS3hNXTAPWk5uqjDVdczykaKc'\n",
    "\n",
    "twitter_user = 'HassanNisar'\n",
    "tw = Twython(ConsumerKey, ConsumerSecret, AccessToken, AccessSecret)"
   ]
  },
  {
   "cell_type": "code",
   "execution_count": 154,
   "metadata": {},
   "outputs": [],
   "source": [
    "def timeline(user_id, max_id=None):    \n",
    "    for i in range(30):\n",
    "        tweets = tw.get_user_timeline(screen_name=user_id,\n",
    "                                      max_id=max_id,\n",
    "                                      count=200,\n",
    "                                      trim_user=True,\n",
    "                                      exclude_replies=True,\n",
    "                                      include_rts=False,\n",
    "                                      tweet_mode='extended')\n",
    "        if len(tweets) > 0:  # last page should have zero results\n",
    "            for tweet in tweets:\n",
    "                max_id = tweet['id'] - 1\n",
    "                yield tweet\n",
    "        else:\n",
    "            break"
   ]
  },
  {
   "cell_type": "code",
   "execution_count": 222,
   "metadata": {},
   "outputs": [
    {
     "name": "stdout",
     "output_type": "stream",
     "text": [
      "omar_journalist\n",
      "('Connection aborted.', OSError(\"(10060, 'WSAETIMEDOUT')\",))\n",
      "Skipping...\n"
     ]
    }
   ],
   "source": [
    "# https://gist.github.com/emallson/9e56a99973b3091124cd\n",
    "# I have a directory of csv files containing user profiles. \n",
    "# Pull the IDs from these.\n",
    "fields = ['id', 'user', 'created_at', 'lang', 'full_text']\n",
    "users_list = open(\"user.txt\", \"r\")\n",
    "for name in users_list:\n",
    "    path = \"timelines/{}.csv\".format(name.rstrip())\n",
    "    if os.path.exists(path):\n",
    "        continue # skip users that have already been read.\n",
    "    with open(path, \"w\", encoding='utf-8', newline='') as timecsv:\n",
    "        print(name)\n",
    "        writer = DictWriter(timecsv, fields)\n",
    "        writer.writeheader()\n",
    "        # max_id is used to continue a user's timeline from \n",
    "        # the last tweet read in the event that we get \n",
    "        # rate-limited in the middle of a user's timeline\n",
    "        max_id = None\n",
    "        while True:\n",
    "            try:\n",
    "                for tweet in timeline(name, max_id):\n",
    "                    temp=tweet\n",
    "                    sub = {k: v for k, v in tweet.items()\n",
    "                           if k in fields}\n",
    "                    sub['user'] = name.rstrip()\n",
    "                    sub['full_text'] = sub['full_text'].rstrip()\n",
    "                    max_id = sub['id']\n",
    "                    if (sub['lang'] == 'ur'):\n",
    "                        writer.writerow(sub)\n",
    "                max_id = None\n",
    "                break\n",
    "            except TwythonRateLimitError as e:\n",
    "                sleep_until(e.retry_after) # sleep until the given date\n",
    "            except TwythonError as e:\n",
    "                # I *think* this is caused by protected profiles. \n",
    "                # I can read some user profile info, but not the timeline\n",
    "                print(e)\n",
    "                print(\"Skipping...\")"
   ]
  },
  {
   "cell_type": "code",
   "execution_count": 532,
   "metadata": {},
   "outputs": [],
   "source": [
    "with open('stopwords.txt','r',encoding=\"utf8\") as f:\n",
    "    stopwords = f.readlines()\n",
    "f.close()\n",
    "stopwords = list(map(lambda s: s.strip(), stopwords))"
   ]
  },
  {
   "cell_type": "code",
   "execution_count": 627,
   "metadata": {},
   "outputs": [],
   "source": [
    "df = pd.concat([pd.read_csv(f, encoding='utf-8') for f in glob('timelines/*.csv')], ignore_index=True)"
   ]
  },
  {
   "cell_type": "code",
   "execution_count": 628,
   "metadata": {},
   "outputs": [],
   "source": [
    "df = df.replace(r'\\n', '', regex = True)"
   ]
  },
  {
   "cell_type": "code",
   "execution_count": 629,
   "metadata": {},
   "outputs": [],
   "source": [
    "df['text'] = df['full_text'].apply(lambda x: re.sub(r'https?://[A-Za-z0-9./]+','',x))"
   ]
  },
  {
   "cell_type": "code",
   "execution_count": 630,
   "metadata": {},
   "outputs": [],
   "source": [
    "df['text'] = df['text'].apply(lambda x: re.sub(r'[a-z]','',x,flags=re.I))"
   ]
  },
  {
   "cell_type": "code",
   "execution_count": 631,
   "metadata": {},
   "outputs": [],
   "source": [
    "df['text'] = df['text'].apply(lambda x: x.translate(str.maketrans('','',string.digits)))"
   ]
  },
  {
   "cell_type": "code",
   "execution_count": 632,
   "metadata": {},
   "outputs": [],
   "source": [
    "df['text'] = df['text'].apply(lambda x: re.sub(r'[۔_:.\"-)(@#،,?!٪\\'“”؟/]+\\ *','',x))"
   ]
  },
  {
   "cell_type": "code",
   "execution_count": 633,
   "metadata": {},
   "outputs": [],
   "source": [
    "def give_emoji_free_text(text):\n",
    "    allchars = [strs for strs in text]\n",
    "    emoji_list = [c for c in allchars if c in emoji.UNICODE_EMOJI]\n",
    "    clean_text = ' '.join([str for str in text.split() if not any(i in str for i in emoji_list)])\n",
    "    return clean_text\n",
    "\n",
    "df['text'] = df['text'].apply(lambda x: give_emoji_free_text(x))"
   ]
  },
  {
   "cell_type": "code",
   "execution_count": 634,
   "metadata": {},
   "outputs": [],
   "source": [
    "def removeStopwords(x):\n",
    "    s_list = [word for word in x.split() if word not in stopwords]\n",
    "    str_ = ' '.join(s_list)\n",
    "    return str_\n",
    "\n",
    "df['text'] = df['text'].apply(lambda x: removeStopwords(x))"
   ]
  },
  {
   "cell_type": "code",
   "execution_count": 635,
   "metadata": {},
   "outputs": [
    {
     "data": {
      "text/plain": [
       "'آنے والا سال بھی گھر داماد جیسا ہوتا ہےشروع شروع میں بہت آؤ بھگت اس بعد جانوروں والا سلوک'"
      ]
     },
     "execution_count": 635,
     "metadata": {},
     "output_type": "execute_result"
    }
   ],
   "source": [
    "df['text'][100]"
   ]
  },
  {
   "cell_type": "code",
   "execution_count": 636,
   "metadata": {},
   "outputs": [
    {
     "data": {
      "text/plain": [
       "'ہر آنے والا سال بھی گھر داماد جیسا ہوتا ہے۔شروع شروع میں بہت آؤ بھگت ہوتی ہے پھر اس کے بعد جانوروں والا سلوک ۔۔۔ !  #HappyNewYear'"
      ]
     },
     "execution_count": 636,
     "metadata": {},
     "output_type": "execute_result"
    }
   ],
   "source": [
    "df['full_text'][100]"
   ]
  },
  {
   "cell_type": "code",
   "execution_count": 637,
   "metadata": {},
   "outputs": [],
   "source": [
    "texts = df['text']\n",
    "labels = df['user']"
   ]
  },
  {
   "cell_type": "code",
   "execution_count": 638,
   "metadata": {},
   "outputs": [],
   "source": [
    "# split the dataset into training and validation datasets \n",
    "train_corpus, test_corpus, train_labels, test_labels = model_selection.train_test_split(texts, labels, train_size=0.75)"
   ]
  },
  {
   "cell_type": "code",
   "execution_count": 639,
   "metadata": {},
   "outputs": [],
   "source": [
    "# label encode the target variable \n",
    "encoder = preprocessing.LabelEncoder()\n",
    "train_y = encoder.fit_transform(train_labels)\n",
    "test_y = encoder.fit_transform(test_labels)"
   ]
  },
  {
   "cell_type": "code",
   "execution_count": 640,
   "metadata": {},
   "outputs": [],
   "source": [
    "def bow_extractor(corpus, ngram_range=(1,1)):\n",
    "    vectorizer = CountVectorizer(min_df=1, ngram_range=ngram_range)\n",
    "    features = vectorizer.fit_transform(corpus)\n",
    "    return vectorizer, features"
   ]
  },
  {
   "cell_type": "code",
   "execution_count": 641,
   "metadata": {},
   "outputs": [],
   "source": [
    "def tfidf_extractor(corpus, ngram_range=(1,1)):\n",
    "    vectorizer = TfidfVectorizer(min_df=1, \n",
    "                                 norm='l2',\n",
    "                                 smooth_idf=True,\n",
    "                                 use_idf=True,\n",
    "                                 ngram_range=ngram_range)\n",
    "    features = vectorizer.fit_transform(corpus)\n",
    "    return vectorizer, features"
   ]
  },
  {
   "cell_type": "code",
   "execution_count": 642,
   "metadata": {},
   "outputs": [],
   "source": [
    "# bag of words features\n",
    "bow_vectorizer, bow_train_features = bow_extractor(train_corpus)  \n",
    "bow_test_features = bow_vectorizer.transform(test_corpus)"
   ]
  },
  {
   "cell_type": "code",
   "execution_count": 643,
   "metadata": {},
   "outputs": [],
   "source": [
    "# tfidf features\n",
    "tfidf_vectorizer, tfidf_train_features = tfidf_extractor(train_corpus)  \n",
    "tfidf_test_features = tfidf_vectorizer.transform(test_corpus)"
   ]
  },
  {
   "cell_type": "code",
   "execution_count": 644,
   "metadata": {},
   "outputs": [
    {
     "data": {
      "text/plain": [
       "(8961, 28021)"
      ]
     },
     "execution_count": 644,
     "metadata": {},
     "output_type": "execute_result"
    }
   ],
   "source": [
    "bow_train_features.shape"
   ]
  },
  {
   "cell_type": "code",
   "execution_count": 645,
   "metadata": {},
   "outputs": [
    {
     "data": {
      "text/plain": [
       "(8961, 28021)"
      ]
     },
     "execution_count": 645,
     "metadata": {},
     "output_type": "execute_result"
    }
   ],
   "source": [
    "tfidf_train_features.shape"
   ]
  },
  {
   "cell_type": "code",
   "execution_count": 646,
   "metadata": {},
   "outputs": [],
   "source": [
    "def get_metrics(true_labels, predicted_labels):\n",
    "    print('Accuracy:', np.round(metrics.accuracy_score(true_labels, predicted_labels), 2))\n",
    "    print('Precision:', np.round(metrics.precision_score(true_labels, predicted_labels, average='weighted'), 2))\n",
    "    print('Recall:', np.round(metrics.recall_score(true_labels, predicted_labels, average='weighted'), 2))\n",
    "    print('F1 Score:', np.round(metrics.f1_score(true_labels, predicted_labels, average='weighted'), 2))"
   ]
  },
  {
   "cell_type": "code",
   "execution_count": 647,
   "metadata": {},
   "outputs": [],
   "source": [
    "def train_predict_evaluate_model(classifier,train_features, train_labels,test_features, test_labels):\n",
    "    # build model    \n",
    "    classifier.fit(train_features, train_labels)\n",
    "    # predict using model\n",
    "    predictions = classifier.predict(test_features) \n",
    "    # evaluate model prediction performance   \n",
    "    get_metrics(true_labels=test_labels, predicted_labels=predictions)\n",
    "    return predictions"
   ]
  },
  {
   "cell_type": "code",
   "execution_count": 648,
   "metadata": {},
   "outputs": [],
   "source": [
    "def confusionMatrix(test_labels, pred_labels):\n",
    "    labels = np.unique(test_labels)\n",
    "    cm =  metrics.confusion_matrix(test_labels, pred_labels, labels=labels)\n",
    "    return pd.DataFrame(cm, index=labels, columns=labels)"
   ]
  },
  {
   "cell_type": "code",
   "execution_count": 649,
   "metadata": {},
   "outputs": [],
   "source": [
    "mnb = MultinomialNB()\n",
    "svm = SGDClassifier(loss='hinge', n_iter=100)"
   ]
  },
  {
   "cell_type": "code",
   "execution_count": 650,
   "metadata": {},
   "outputs": [
    {
     "name": "stdout",
     "output_type": "stream",
     "text": [
      "Accuracy: 0.81\n",
      "Precision: 0.82\n",
      "Recall: 0.81\n",
      "F1 Score: 0.8\n"
     ]
    }
   ],
   "source": [
    "# Multinomial Naive Bayes with bag of words features\n",
    "mnb_bow_predictions = train_predict_evaluate_model(classifier=mnb,\n",
    "                                           train_features=bow_train_features,\n",
    "                                           train_labels=train_labels,\n",
    "                                           test_features=bow_test_features,\n",
    "                                           test_labels=test_labels)"
   ]
  },
  {
   "cell_type": "code",
   "execution_count": 651,
   "metadata": {},
   "outputs": [
    {
     "data": {
      "text/html": [
       "<div>\n",
       "<style scoped>\n",
       "    .dataframe tbody tr th:only-of-type {\n",
       "        vertical-align: middle;\n",
       "    }\n",
       "\n",
       "    .dataframe tbody tr th {\n",
       "        vertical-align: top;\n",
       "    }\n",
       "\n",
       "    .dataframe thead th {\n",
       "        text-align: right;\n",
       "    }\n",
       "</style>\n",
       "<table border=\"1\" class=\"dataframe\">\n",
       "  <thead>\n",
       "    <tr style=\"text-align: right;\">\n",
       "      <th></th>\n",
       "      <th>AftabIqbal_</th>\n",
       "      <th>HassanNisar</th>\n",
       "      <th>KhSaad_Rafique</th>\n",
       "      <th>mujibshami1</th>\n",
       "      <th>omar_journalist</th>\n",
       "    </tr>\n",
       "  </thead>\n",
       "  <tbody>\n",
       "    <tr>\n",
       "      <th>AftabIqbal_</th>\n",
       "      <td>129</td>\n",
       "      <td>64</td>\n",
       "      <td>25</td>\n",
       "      <td>85</td>\n",
       "      <td>37</td>\n",
       "    </tr>\n",
       "    <tr>\n",
       "      <th>HassanNisar</th>\n",
       "      <td>0</td>\n",
       "      <td>769</td>\n",
       "      <td>2</td>\n",
       "      <td>6</td>\n",
       "      <td>5</td>\n",
       "    </tr>\n",
       "    <tr>\n",
       "      <th>KhSaad_Rafique</th>\n",
       "      <td>10</td>\n",
       "      <td>43</td>\n",
       "      <td>332</td>\n",
       "      <td>51</td>\n",
       "      <td>14</td>\n",
       "    </tr>\n",
       "    <tr>\n",
       "      <th>mujibshami1</th>\n",
       "      <td>15</td>\n",
       "      <td>44</td>\n",
       "      <td>4</td>\n",
       "      <td>542</td>\n",
       "      <td>27</td>\n",
       "    </tr>\n",
       "    <tr>\n",
       "      <th>omar_journalist</th>\n",
       "      <td>8</td>\n",
       "      <td>63</td>\n",
       "      <td>7</td>\n",
       "      <td>46</td>\n",
       "      <td>659</td>\n",
       "    </tr>\n",
       "  </tbody>\n",
       "</table>\n",
       "</div>"
      ],
      "text/plain": [
       "                 AftabIqbal_  HassanNisar  KhSaad_Rafique  mujibshami1  \\\n",
       "AftabIqbal_              129           64              25           85   \n",
       "HassanNisar                0          769               2            6   \n",
       "KhSaad_Rafique            10           43             332           51   \n",
       "mujibshami1               15           44               4          542   \n",
       "omar_journalist            8           63               7           46   \n",
       "\n",
       "                 omar_journalist  \n",
       "AftabIqbal_                   37  \n",
       "HassanNisar                    5  \n",
       "KhSaad_Rafique                14  \n",
       "mujibshami1                   27  \n",
       "omar_journalist              659  "
      ]
     },
     "execution_count": 651,
     "metadata": {},
     "output_type": "execute_result"
    }
   ],
   "source": [
    "cm = confusionMatrix(test_labels, mnb_bow_predictions)\n",
    "cm"
   ]
  },
  {
   "cell_type": "code",
   "execution_count": 652,
   "metadata": {},
   "outputs": [
    {
     "name": "stderr",
     "output_type": "stream",
     "text": [
      "C:\\Users\\Nabeel\\Anaconda3\\lib\\site-packages\\sklearn\\linear_model\\stochastic_gradient.py:152: DeprecationWarning: n_iter parameter is deprecated in 0.19 and will be removed in 0.21. Use max_iter and tol instead.\n",
      "  DeprecationWarning)\n"
     ]
    },
    {
     "name": "stdout",
     "output_type": "stream",
     "text": [
      "Accuracy: 0.81\n",
      "Precision: 0.8\n",
      "Recall: 0.81\n",
      "F1 Score: 0.8\n"
     ]
    }
   ],
   "source": [
    "# Support Vector Machine with bag of words features\n",
    "svm_bow_predictions = train_predict_evaluate_model(classifier=svm,\n",
    "                                           train_features=bow_train_features,\n",
    "                                           train_labels=train_labels,\n",
    "                                           test_features=bow_test_features,\n",
    "                                           test_labels=test_labels)"
   ]
  },
  {
   "cell_type": "code",
   "execution_count": 653,
   "metadata": {},
   "outputs": [
    {
     "data": {
      "text/html": [
       "<div>\n",
       "<style scoped>\n",
       "    .dataframe tbody tr th:only-of-type {\n",
       "        vertical-align: middle;\n",
       "    }\n",
       "\n",
       "    .dataframe tbody tr th {\n",
       "        vertical-align: top;\n",
       "    }\n",
       "\n",
       "    .dataframe thead th {\n",
       "        text-align: right;\n",
       "    }\n",
       "</style>\n",
       "<table border=\"1\" class=\"dataframe\">\n",
       "  <thead>\n",
       "    <tr style=\"text-align: right;\">\n",
       "      <th></th>\n",
       "      <th>AftabIqbal_</th>\n",
       "      <th>HassanNisar</th>\n",
       "      <th>KhSaad_Rafique</th>\n",
       "      <th>mujibshami1</th>\n",
       "      <th>omar_journalist</th>\n",
       "    </tr>\n",
       "  </thead>\n",
       "  <tbody>\n",
       "    <tr>\n",
       "      <th>AftabIqbal_</th>\n",
       "      <td>169</td>\n",
       "      <td>28</td>\n",
       "      <td>34</td>\n",
       "      <td>52</td>\n",
       "      <td>57</td>\n",
       "    </tr>\n",
       "    <tr>\n",
       "      <th>HassanNisar</th>\n",
       "      <td>13</td>\n",
       "      <td>706</td>\n",
       "      <td>15</td>\n",
       "      <td>15</td>\n",
       "      <td>33</td>\n",
       "    </tr>\n",
       "    <tr>\n",
       "      <th>KhSaad_Rafique</th>\n",
       "      <td>30</td>\n",
       "      <td>6</td>\n",
       "      <td>334</td>\n",
       "      <td>39</td>\n",
       "      <td>41</td>\n",
       "    </tr>\n",
       "    <tr>\n",
       "      <th>mujibshami1</th>\n",
       "      <td>40</td>\n",
       "      <td>19</td>\n",
       "      <td>33</td>\n",
       "      <td>467</td>\n",
       "      <td>73</td>\n",
       "    </tr>\n",
       "    <tr>\n",
       "      <th>omar_journalist</th>\n",
       "      <td>13</td>\n",
       "      <td>8</td>\n",
       "      <td>15</td>\n",
       "      <td>16</td>\n",
       "      <td>731</td>\n",
       "    </tr>\n",
       "  </tbody>\n",
       "</table>\n",
       "</div>"
      ],
      "text/plain": [
       "                 AftabIqbal_  HassanNisar  KhSaad_Rafique  mujibshami1  \\\n",
       "AftabIqbal_              169           28              34           52   \n",
       "HassanNisar               13          706              15           15   \n",
       "KhSaad_Rafique            30            6             334           39   \n",
       "mujibshami1               40           19              33          467   \n",
       "omar_journalist           13            8              15           16   \n",
       "\n",
       "                 omar_journalist  \n",
       "AftabIqbal_                   57  \n",
       "HassanNisar                   33  \n",
       "KhSaad_Rafique                41  \n",
       "mujibshami1                   73  \n",
       "omar_journalist              731  "
      ]
     },
     "execution_count": 653,
     "metadata": {},
     "output_type": "execute_result"
    }
   ],
   "source": [
    "cm = confusionMatrix(test_labels, svm_bow_predictions)\n",
    "cm"
   ]
  },
  {
   "cell_type": "code",
   "execution_count": 654,
   "metadata": {},
   "outputs": [
    {
     "name": "stdout",
     "output_type": "stream",
     "text": [
      "Accuracy: 0.72\n",
      "Precision: 0.77\n",
      "Recall: 0.72\n",
      "F1 Score: 0.68\n"
     ]
    }
   ],
   "source": [
    "# Multinomial Naive Bayes with tfidf features                                           \n",
    "mnb_tfidf_predictions = train_predict_evaluate_model(classifier=mnb,\n",
    "                                           train_features=tfidf_train_features,\n",
    "                                           train_labels=train_labels,\n",
    "                                           test_features=tfidf_test_features,\n",
    "                                           test_labels=test_labels)"
   ]
  },
  {
   "cell_type": "code",
   "execution_count": 655,
   "metadata": {},
   "outputs": [
    {
     "data": {
      "text/html": [
       "<div>\n",
       "<style scoped>\n",
       "    .dataframe tbody tr th:only-of-type {\n",
       "        vertical-align: middle;\n",
       "    }\n",
       "\n",
       "    .dataframe tbody tr th {\n",
       "        vertical-align: top;\n",
       "    }\n",
       "\n",
       "    .dataframe thead th {\n",
       "        text-align: right;\n",
       "    }\n",
       "</style>\n",
       "<table border=\"1\" class=\"dataframe\">\n",
       "  <thead>\n",
       "    <tr style=\"text-align: right;\">\n",
       "      <th></th>\n",
       "      <th>AftabIqbal_</th>\n",
       "      <th>HassanNisar</th>\n",
       "      <th>KhSaad_Rafique</th>\n",
       "      <th>mujibshami1</th>\n",
       "      <th>omar_journalist</th>\n",
       "    </tr>\n",
       "  </thead>\n",
       "  <tbody>\n",
       "    <tr>\n",
       "      <th>AftabIqbal_</th>\n",
       "      <td>6</td>\n",
       "      <td>175</td>\n",
       "      <td>2</td>\n",
       "      <td>80</td>\n",
       "      <td>77</td>\n",
       "    </tr>\n",
       "    <tr>\n",
       "      <th>HassanNisar</th>\n",
       "      <td>0</td>\n",
       "      <td>772</td>\n",
       "      <td>0</td>\n",
       "      <td>3</td>\n",
       "      <td>7</td>\n",
       "    </tr>\n",
       "    <tr>\n",
       "      <th>KhSaad_Rafique</th>\n",
       "      <td>0</td>\n",
       "      <td>107</td>\n",
       "      <td>247</td>\n",
       "      <td>45</td>\n",
       "      <td>51</td>\n",
       "    </tr>\n",
       "    <tr>\n",
       "      <th>mujibshami1</th>\n",
       "      <td>0</td>\n",
       "      <td>119</td>\n",
       "      <td>0</td>\n",
       "      <td>452</td>\n",
       "      <td>61</td>\n",
       "    </tr>\n",
       "    <tr>\n",
       "      <th>omar_journalist</th>\n",
       "      <td>1</td>\n",
       "      <td>75</td>\n",
       "      <td>2</td>\n",
       "      <td>18</td>\n",
       "      <td>687</td>\n",
       "    </tr>\n",
       "  </tbody>\n",
       "</table>\n",
       "</div>"
      ],
      "text/plain": [
       "                 AftabIqbal_  HassanNisar  KhSaad_Rafique  mujibshami1  \\\n",
       "AftabIqbal_                6          175               2           80   \n",
       "HassanNisar                0          772               0            3   \n",
       "KhSaad_Rafique             0          107             247           45   \n",
       "mujibshami1                0          119               0          452   \n",
       "omar_journalist            1           75               2           18   \n",
       "\n",
       "                 omar_journalist  \n",
       "AftabIqbal_                   77  \n",
       "HassanNisar                    7  \n",
       "KhSaad_Rafique                51  \n",
       "mujibshami1                   61  \n",
       "omar_journalist              687  "
      ]
     },
     "execution_count": 655,
     "metadata": {},
     "output_type": "execute_result"
    }
   ],
   "source": [
    "cm = confusionMatrix(test_labels, mnb_tfidf_predictions)\n",
    "cm"
   ]
  },
  {
   "cell_type": "code",
   "execution_count": 656,
   "metadata": {},
   "outputs": [
    {
     "name": "stderr",
     "output_type": "stream",
     "text": [
      "C:\\Users\\Nabeel\\Anaconda3\\lib\\site-packages\\sklearn\\linear_model\\stochastic_gradient.py:152: DeprecationWarning: n_iter parameter is deprecated in 0.19 and will be removed in 0.21. Use max_iter and tol instead.\n",
      "  DeprecationWarning)\n"
     ]
    },
    {
     "name": "stdout",
     "output_type": "stream",
     "text": [
      "Accuracy: 0.85\n",
      "Precision: 0.84\n",
      "Recall: 0.85\n",
      "F1 Score: 0.84\n"
     ]
    }
   ],
   "source": [
    "# Support Vector Machine with tfidf features\n",
    "svm_tfidf_predictions = train_predict_evaluate_model(classifier=svm,\n",
    "                                           train_features=tfidf_train_features,\n",
    "                                           train_labels=train_labels,\n",
    "                                           test_features=tfidf_test_features,\n",
    "                                           test_labels=test_labels)"
   ]
  },
  {
   "cell_type": "code",
   "execution_count": 657,
   "metadata": {},
   "outputs": [
    {
     "data": {
      "text/html": [
       "<div>\n",
       "<style scoped>\n",
       "    .dataframe tbody tr th:only-of-type {\n",
       "        vertical-align: middle;\n",
       "    }\n",
       "\n",
       "    .dataframe tbody tr th {\n",
       "        vertical-align: top;\n",
       "    }\n",
       "\n",
       "    .dataframe thead th {\n",
       "        text-align: right;\n",
       "    }\n",
       "</style>\n",
       "<table border=\"1\" class=\"dataframe\">\n",
       "  <thead>\n",
       "    <tr style=\"text-align: right;\">\n",
       "      <th></th>\n",
       "      <th>AftabIqbal_</th>\n",
       "      <th>HassanNisar</th>\n",
       "      <th>KhSaad_Rafique</th>\n",
       "      <th>mujibshami1</th>\n",
       "      <th>omar_journalist</th>\n",
       "    </tr>\n",
       "  </thead>\n",
       "  <tbody>\n",
       "    <tr>\n",
       "      <th>AftabIqbal_</th>\n",
       "      <td>184</td>\n",
       "      <td>39</td>\n",
       "      <td>29</td>\n",
       "      <td>61</td>\n",
       "      <td>27</td>\n",
       "    </tr>\n",
       "    <tr>\n",
       "      <th>HassanNisar</th>\n",
       "      <td>4</td>\n",
       "      <td>747</td>\n",
       "      <td>7</td>\n",
       "      <td>10</td>\n",
       "      <td>14</td>\n",
       "    </tr>\n",
       "    <tr>\n",
       "      <th>KhSaad_Rafique</th>\n",
       "      <td>26</td>\n",
       "      <td>11</td>\n",
       "      <td>347</td>\n",
       "      <td>46</td>\n",
       "      <td>20</td>\n",
       "    </tr>\n",
       "    <tr>\n",
       "      <th>mujibshami1</th>\n",
       "      <td>21</td>\n",
       "      <td>28</td>\n",
       "      <td>11</td>\n",
       "      <td>548</td>\n",
       "      <td>24</td>\n",
       "    </tr>\n",
       "    <tr>\n",
       "      <th>omar_journalist</th>\n",
       "      <td>17</td>\n",
       "      <td>19</td>\n",
       "      <td>14</td>\n",
       "      <td>33</td>\n",
       "      <td>700</td>\n",
       "    </tr>\n",
       "  </tbody>\n",
       "</table>\n",
       "</div>"
      ],
      "text/plain": [
       "                 AftabIqbal_  HassanNisar  KhSaad_Rafique  mujibshami1  \\\n",
       "AftabIqbal_              184           39              29           61   \n",
       "HassanNisar                4          747               7           10   \n",
       "KhSaad_Rafique            26           11             347           46   \n",
       "mujibshami1               21           28              11          548   \n",
       "omar_journalist           17           19              14           33   \n",
       "\n",
       "                 omar_journalist  \n",
       "AftabIqbal_                   27  \n",
       "HassanNisar                   14  \n",
       "KhSaad_Rafique                20  \n",
       "mujibshami1                   24  \n",
       "omar_journalist              700  "
      ]
     },
     "execution_count": 657,
     "metadata": {},
     "output_type": "execute_result"
    }
   ],
   "source": [
    "cm = confusionMatrix(test_labels,svm_tfidf_predictions)\n",
    "cm"
   ]
  },
  {
   "cell_type": "code",
   "execution_count": 278,
   "metadata": {},
   "outputs": [
    {
     "data": {
      "text/html": [
       "<div>\n",
       "<style scoped>\n",
       "    .dataframe tbody tr th:only-of-type {\n",
       "        vertical-align: middle;\n",
       "    }\n",
       "\n",
       "    .dataframe tbody tr th {\n",
       "        vertical-align: top;\n",
       "    }\n",
       "\n",
       "    .dataframe thead tr th {\n",
       "        text-align: left;\n",
       "    }\n",
       "\n",
       "    .dataframe thead tr:last-of-type th {\n",
       "        text-align: right;\n",
       "    }\n",
       "</style>\n",
       "<table border=\"1\" class=\"dataframe\">\n",
       "  <thead>\n",
       "    <tr>\n",
       "      <th></th>\n",
       "      <th colspan=\"8\" halign=\"left\">id</th>\n",
       "    </tr>\n",
       "    <tr>\n",
       "      <th></th>\n",
       "      <th>count</th>\n",
       "      <th>mean</th>\n",
       "      <th>std</th>\n",
       "      <th>min</th>\n",
       "      <th>25%</th>\n",
       "      <th>50%</th>\n",
       "      <th>75%</th>\n",
       "      <th>max</th>\n",
       "    </tr>\n",
       "    <tr>\n",
       "      <th>user</th>\n",
       "      <th></th>\n",
       "      <th></th>\n",
       "      <th></th>\n",
       "      <th></th>\n",
       "      <th></th>\n",
       "      <th></th>\n",
       "      <th></th>\n",
       "      <th></th>\n",
       "    </tr>\n",
       "  </thead>\n",
       "  <tbody>\n",
       "    <tr>\n",
       "      <th>AftabIqbal_</th>\n",
       "      <td>1364.0</td>\n",
       "      <td>9.919326e+17</td>\n",
       "      <td>5.477875e+16</td>\n",
       "      <td>8.930074e+17</td>\n",
       "      <td>9.455906e+17</td>\n",
       "      <td>9.845359e+17</td>\n",
       "      <td>1.036725e+18</td>\n",
       "      <td>1.101880e+18</td>\n",
       "    </tr>\n",
       "    <tr>\n",
       "      <th>HassanNisar</th>\n",
       "      <td>3161.0</td>\n",
       "      <td>1.090922e+18</td>\n",
       "      <td>2.522257e+15</td>\n",
       "      <td>1.086237e+18</td>\n",
       "      <td>1.088754e+18</td>\n",
       "      <td>1.090928e+18</td>\n",
       "      <td>1.093094e+18</td>\n",
       "      <td>1.098899e+18</td>\n",
       "    </tr>\n",
       "    <tr>\n",
       "      <th>KhSaad_Rafique</th>\n",
       "      <td>1779.0</td>\n",
       "      <td>9.554059e+17</td>\n",
       "      <td>8.530451e+16</td>\n",
       "      <td>6.165331e+17</td>\n",
       "      <td>9.034022e+17</td>\n",
       "      <td>9.604295e+17</td>\n",
       "      <td>1.018891e+18</td>\n",
       "      <td>1.100772e+18</td>\n",
       "    </tr>\n",
       "    <tr>\n",
       "      <th>mujibshami1</th>\n",
       "      <td>2585.0</td>\n",
       "      <td>8.255037e+17</td>\n",
       "      <td>1.169837e+17</td>\n",
       "      <td>6.561426e+17</td>\n",
       "      <td>7.304463e+17</td>\n",
       "      <td>8.052898e+17</td>\n",
       "      <td>8.924360e+17</td>\n",
       "      <td>1.102089e+18</td>\n",
       "    </tr>\n",
       "    <tr>\n",
       "      <th>omar_journalist</th>\n",
       "      <td>3059.0</td>\n",
       "      <td>1.033400e+18</td>\n",
       "      <td>3.395432e+16</td>\n",
       "      <td>9.843857e+17</td>\n",
       "      <td>1.002215e+18</td>\n",
       "      <td>1.027607e+18</td>\n",
       "      <td>1.063122e+18</td>\n",
       "      <td>1.101543e+18</td>\n",
       "    </tr>\n",
       "  </tbody>\n",
       "</table>\n",
       "</div>"
      ],
      "text/plain": [
       "                     id                                            \\\n",
       "                  count          mean           std           min   \n",
       "user                                                                \n",
       "AftabIqbal_      1364.0  9.919326e+17  5.477875e+16  8.930074e+17   \n",
       "HassanNisar      3161.0  1.090922e+18  2.522257e+15  1.086237e+18   \n",
       "KhSaad_Rafique   1779.0  9.554059e+17  8.530451e+16  6.165331e+17   \n",
       "mujibshami1      2585.0  8.255037e+17  1.169837e+17  6.561426e+17   \n",
       "omar_journalist  3059.0  1.033400e+18  3.395432e+16  9.843857e+17   \n",
       "\n",
       "                                                                         \n",
       "                          25%           50%           75%           max  \n",
       "user                                                                     \n",
       "AftabIqbal_      9.455906e+17  9.845359e+17  1.036725e+18  1.101880e+18  \n",
       "HassanNisar      1.088754e+18  1.090928e+18  1.093094e+18  1.098899e+18  \n",
       "KhSaad_Rafique   9.034022e+17  9.604295e+17  1.018891e+18  1.100772e+18  \n",
       "mujibshami1      7.304463e+17  8.052898e+17  8.924360e+17  1.102089e+18  \n",
       "omar_journalist  1.002215e+18  1.027607e+18  1.063122e+18  1.101543e+18  "
      ]
     },
     "execution_count": 278,
     "metadata": {},
     "output_type": "execute_result"
    }
   ],
   "source": [
    "df.groupby('user').describe()"
   ]
  },
  {
   "cell_type": "code",
   "execution_count": 568,
   "metadata": {},
   "outputs": [
    {
     "name": "stdout",
     "output_type": "stream",
     "text": [
      "done !!!!\n"
     ]
    }
   ],
   "source": [
    "main_list = []\n",
    "\n",
    "for path in glob('dataset/TRAIN/*.xml'):\n",
    "    tree = ET.parse(path)\n",
    "    root = tree.getroot()\n",
    "    \n",
    "    for s in root.iter('s'):\n",
    "        child_list = []\n",
    "        for child in s.getchildren():\n",
    "            if (child.text != None):\n",
    "                item = (child.text, child.attrib['pos'])\n",
    "            if (len(item) == 2):\n",
    "                child_list.append(item)\n",
    "        \n",
    "        if(child_list):\n",
    "            main_list.append(child_list)\n",
    "\n",
    "print('done !!!!')"
   ]
  },
  {
   "cell_type": "code",
   "execution_count": 569,
   "metadata": {},
   "outputs": [
    {
     "name": "stdout",
     "output_type": "stream",
     "text": [
      "done !!!!\n"
     ]
    }
   ],
   "source": [
    "test_list = []\n",
    "\n",
    "for path in glob('dataset/TEST/*.xml'):\n",
    "    tree = ET.parse(path)\n",
    "    root = tree.getroot()\n",
    "    \n",
    "    for s in root.iter('s'):\n",
    "        child_list = []\n",
    "        for child in s.getchildren():\n",
    "            if (child.text != None):\n",
    "                item = (child.text, child.attrib['pos'])\n",
    "            if (len(item) == 2):\n",
    "                child_list.append(item)\n",
    "        \n",
    "        if(child_list):\n",
    "            test_list.append(child_list)\n",
    "\n",
    "print('done !!!!')"
   ]
  },
  {
   "cell_type": "code",
   "execution_count": 574,
   "metadata": {},
   "outputs": [
    {
     "name": "stdout",
     "output_type": "stream",
     "text": [
      "0.8654746011839746\n",
      "[('بریکنگ', 'PN'), ('نیوز', 'PN'), (':', 'PM'), ('بڑا', 'ADJ'), ('فیصلہ', 'NN'), ('آ', 'VB'), ('گیا', 'AA'), ('،', 'PM'), ('پاکستان', 'PN'), ('کو', 'P'), ('عالمی', 'ADJ'), ('عدالت', 'NN'), ('سے', 'SE'), ('بڑی', 'ADJ'), ('خوشخبری', 'ADJ'), ('مل', 'VB'), ('گئی', 'AA')]\n"
     ]
    }
   ],
   "source": [
    "sent = 'بریکنگ نیوز : بڑا فیصلہ آ گیا ، پاکستان کو عالمی عدالت سے بڑی خوشخبری مل گئی'\n",
    "u_tokens = nltk.word_tokenize(sent)\n",
    "\n",
    "nbt_urdu = ClassifierBasedPOSTagger(train=main_list, classifier_builder=NaiveBayesClassifier.train)\n",
    "\n",
    "print(nbt_urdu.evaluate(test_list))\n",
    "print(nbt_urdu.tag(u_tokens))"
   ]
  },
  {
   "cell_type": "code",
   "execution_count": 595,
   "metadata": {},
   "outputs": [],
   "source": [
    "def addPOSTag(x):\n",
    "    s_list = []\n",
    "    tag = nbt_urdu.tag(x)\n",
    "    for s in tag:\n",
    "        word, tag = s\n",
    "        s_list.append(tag)\n",
    "        \n",
    "    str_ = ' '.join(s_list)\n",
    "    return str_\n",
    "\n",
    "df['POS'] = df['text'].apply(lambda x: addPOSTag(x))"
   ]
  },
  {
   "cell_type": "code",
   "execution_count": 601,
   "metadata": {},
   "outputs": [],
   "source": [
    "texts = df['POS']\n",
    "labels = df['user']"
   ]
  },
  {
   "cell_type": "code",
   "execution_count": 617,
   "metadata": {},
   "outputs": [
    {
     "data": {
      "text/plain": [
       "0        PN PN PN  A EXP  PN  CC NN  PM  MUL FR U AD FR...\n",
       "1        PN NN PN PN PN CA EXP FR ADJ  EXP  MUL FR MUL ...\n",
       "2        AP CA CA PN ADV PN PN  PN  AA TA  PN PN  EXP  ...\n",
       "3        PN PN VB SM AA AP CA AD EXP  CA PN PN CA EXP C...\n",
       "4        CA PN U A EXP  ADJ  AD MUL ADV  EXP  ADV  MUL ...\n",
       "5        PD PN PN PN  CA U EXP  PN CC CA ADJ EXP REP G ...\n",
       "6        CC EXP PN EXP PN EXP ADV EXP MUL EXP  CA EXP  ...\n",
       "7        AP CA CA PN ADV PN PN  CA PN PN PN  EXP  MUL A...\n",
       "8        AP CA CA PN ADV PN PN  PN  AA TA  PN PN  EXP  ...\n",
       "9        CA PN U EXP  CC NN  PN AP EXP INT PN PN PN PN ...\n",
       "10       AP CA CA PN ADV PN PN  PN  AA TA  PN PN  EXP  ...\n",
       "11       AP CA SE EXP U CA U PN  AD EXP  AP MUL AA EXP ...\n",
       "12       CC PD EXP CA U CA PN U PN PN  EXP  MUL AA CA P...\n",
       "13       PD PN EXP PN CC PN PN PN  CA AD U A MUL AA EXP...\n",
       "14       AP CA CA PN ADV SM CA CC EXP PN CA EXP CA CA P...\n",
       "15       PP G CC CA PN CC VB PM  MUL FR I  U FR VB KER ...\n",
       "16       CA PN U CA EXP  FR INT EXP  I  INT INT EXP  AD...\n",
       "17       PN PN CA SE FR AD CA FR U CC PN PN PN  U U RP ...\n",
       "18       PD CC PN PN PN PN PN PN  EXP  NEG  MUL AA PN  ...\n",
       "19       CA CC CA CA PN PN PN  PN  NEG  AA PN SM CA CA ...\n",
       "20       PD CC PN PN PN PN PN PN  EXP  MUL AA TA  KP KP...\n",
       "21       CA AP CA AD EXP  NEG  AD AA NN  PM  NEG  AA PN...\n",
       "22       PN ADV PN  KD EXP  I  AA PN SM PN  FR CC PN PN...\n",
       "23       PN PN PN  EXP  CC EXP  PN PN  EXP  CC EXP  PN ...\n",
       "24       PN CC PN PN PN  CA U CA PN ADV PN PN  MUL FR A...\n",
       "25       PN PN CA A EXP  CA U CC CA ADJ EXP NN  PN AP E...\n",
       "26       AP CA CA PN ADV SM PN  AA TA  CA U CA U EXP  R...\n",
       "27       PN PN PN PN PN PN  CC PN PN CC AP PN PN PN PN ...\n",
       "28       PN PN PN  EXP  MUL U CC NN  PM  MUL U KP AA AA...\n",
       "29       PD OR PN PN  CA U A AP CA CA PN ADV PN PN  PN ...\n",
       "                               ...                        \n",
       "11918    PD PN AP EXP CA CA EXP PN CC PN CC CA ADJ EXP ...\n",
       "11919    PN PN PN PN PN PN  PN PN VB SM PN  AD CA PN IN...\n",
       "11920    PN PN VB SM CA PN PN CA NN  CA EXP  U EXP  U A...\n",
       "11921    PD CC PN PN PN PN PN PN  EXP  MUL INT AP AA PN...\n",
       "11922    CA PN PN PN PN  U AD NEG  U PN PN PN PN  PN  M...\n",
       "11923    PN PN CA CC CA EXP CA FR U NEG  FR EXP  ADJ  A...\n",
       "11924    AP CA CC PN ADV SM CA U ADV CA PN PN PN  MUL F...\n",
       "11925    PD PN AP EXP ADJ  AA PN  CC NN  PM  CA FR PN A...\n",
       "11926    PD PN PN PN PN PN  CC NN  PM  PP  AA CA PM  IN...\n",
       "11927    PD PN AP EXP RP PN PN CA PN CA PN CC PN PN CA ...\n",
       "11928    PD EXP PN PN PN PN PN  PN  MUL CC PN ADV SM CA...\n",
       "11929    PN PN PN PN  EXP  ADJ  AA PN  CA CA U EXP  U A...\n",
       "11930    PN CC PN PN EXP CA CC EXP OR PN  AD INT EXP  M...\n",
       "11931    AP PN PN CC NN  PM  PN  AA TA  PN  U AA TA  AD...\n",
       "11932    PP PN CA CA U CA U EXP  PN  CC NN  PM  KP A EX...\n",
       "11933    AP CA CC PN ADV SM CA CA EXP REP KD I EXP  ADJ...\n",
       "11934    AP CA CC PN ADV SM CA CA EXP REP KD I EXP  ADJ...\n",
       "11935    AP CA CC PN ADV SM CA CA EXP REP KD I EXP  ADJ...\n",
       "11936    AP CA CC PN ADV SM CA CA EXP REP KD I EXP  ADJ...\n",
       "11937    AP CA CC PN ADV SM CA CA EXP REP KD I EXP  ADJ...\n",
       "11938    AP CA CC PN ADV SM CA CA EXP REP KD I EXP  ADJ...\n",
       "11939    AP CA CC PN ADV SM CA CA EXP REP KD I EXP  ADJ...\n",
       "11940    PN PN CA CA PN CA SE EXP U PN CC NN  PN PN PN ...\n",
       "11941    PN PN PN PN EXP PN  CC PN PN PN  PN  KP EXP  P...\n",
       "11942    CA CA CA EXP FR CA U PN PN  MUL MUL PP  KP A U...\n",
       "11943    CA CA CA EXP FR CA U PN PN  MUL MUL PP  KP A U...\n",
       "11944    PD CC PN PN PN  PN  U AD PN  EXP  I  AD AA REP...\n",
       "11945    PN PN PN PN  PN  INT CA U FR AD KER EXP  MUL A...\n",
       "11946    AP CA CC PN ADV SM CA CC EXP ADJ PN PN PN  PN ...\n",
       "11947    PD CC PN PN PN  PN  U AD PN  EXP  CA CA U AP E...\n",
       "Name: POS, Length: 11948, dtype: object"
      ]
     },
     "execution_count": 617,
     "metadata": {},
     "output_type": "execute_result"
    }
   ],
   "source": [
    "texts"
   ]
  },
  {
   "cell_type": "code",
   "execution_count": null,
   "metadata": {},
   "outputs": [],
   "source": []
  }
 ],
 "metadata": {
  "kernelspec": {
   "display_name": "Python 3",
   "language": "python",
   "name": "python3"
  },
  "language_info": {
   "codemirror_mode": {
    "name": "ipython",
    "version": 3
   },
   "file_extension": ".py",
   "mimetype": "text/x-python",
   "name": "python",
   "nbconvert_exporter": "python",
   "pygments_lexer": "ipython3",
   "version": "3.6.8"
  }
 },
 "nbformat": 4,
 "nbformat_minor": 2
}
